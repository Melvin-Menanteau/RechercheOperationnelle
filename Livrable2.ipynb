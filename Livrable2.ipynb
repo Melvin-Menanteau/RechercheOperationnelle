{
 "cells": [
  {
   "cell_type": "markdown",
   "metadata": {},
   "source": [
    "<div style=\"text-align: center;\">\n",
    "    <h1 style=\"font-size: 50px; font-weight: bold;\">CESI</h1>\n",
    "    <h2 style=\"font-size: 30px;\">École d'ingénieurs</h2>\n",
    "    <h3 style=\"margin-top: 100px;\">A3 FISA INFO</h3>\n",
    "    <hr style=\"width: 60%; margin: auto;\">\n",
    "    <h1>Recherche Opérationnelle – Mobilité Durable</h1>\n",
    "    <hr style=\"width: 60%; margin: auto;\">\n",
    "    <h4 style=\"margin-top: 200px;\">BARCELO Tom – DEXES Victor – MENANTEAU Melvin – petit Victor</h4>\n",
    "</div>"
   ]
  },
  {
   "cell_type": "markdown",
   "metadata": {},
   "source": [
    "# Table des Matières\n",
    "\n",
    "1. [Glossaire](#Glossaire)\n",
    "2. [Introduction](#Introduction)\n",
    "   - Présentation du projet\n",
    "   - Plan d'action\n",
    "3. [Contexte du projet](#Contexte-du-projet)\n",
    "   - Contenu du livrable\n",
    "   - Problématiques\n",
    "   - Données à respecter et contraintes\n",
    "4. [Méthodologie de travail](#Méthodologie-de-travail)\n",
    "5. [Résultats](#Résultats)\n",
    "6. [Conclusion](#Conclusion)"
   ]
  },
  {
   "cell_type": "markdown",
   "metadata": {},
   "source": [
    "## Glossaire"
   ]
  },
  {
   "cell_type": "markdown",
   "metadata": {},
   "source": [
    "## Introduction"
   ]
  },
  {
   "cell_type": "markdown",
   "metadata": {},
   "source": [
    "## Contexte du projet"
   ]
  },
  {
   "cell_type": "markdown",
   "metadata": {},
   "source": [
    "## Méthodologie de travail"
   ]
  },
  {
   "cell_type": "markdown",
   "metadata": {},
   "source": [
    "## Résultats"
   ]
  },
  {
   "cell_type": "markdown",
   "metadata": {},
   "source": [
    "## Conclusion"
   ]
  }
 ],
 "metadata": {
  "kernelspec": {
   "display_name": "Python 3",
   "language": "python",
   "name": "python3"
  },
  "language_info": {
   "codemirror_mode": {
    "name": "ipython",
    "version": 3
   },
   "file_extension": ".py",
   "mimetype": "text/x-python",
   "name": "python",
   "nbconvert_exporter": "python",
   "pygments_lexer": "ipython3",
   "version": "3.11.9"
  }
 },
 "nbformat": 4,
 "nbformat_minor": 2
}
