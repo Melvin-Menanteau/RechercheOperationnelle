{
 "cells": [
  {
   "cell_type": "markdown",
   "metadata": {},
   "source": [
    "<div style=\"text-align: center;\">\n",
    "    <h1 style=\"font-size: 50px; font-weight: bold;\">CESI</h1>\n",
    "    <h2 style=\"font-size: 30px;\">École d'ingénieurs</h2>\n",
    "    <h3 style=\"margin-top: 100px;\">A3 FISA INFO</h3>\n",
    "    <hr style=\"width: 60%; margin: auto;\">\n",
    "    <h1>Recherche Opérationnelle – Mobilité Durable</h1>\n",
    "    <hr style=\"width: 60%; margin: auto;\">\n",
    "    <h4 style=\"margin-top: 200px;\">BARCELO Tom – DEXES Victor – MENANTEAU Melvin – PETIT Victor</h4>\n",
    "</div>"
   ]
  },
  {
   "cell_type": "markdown",
   "metadata": {},
   "source": [
    "# Table des Matières\n",
    "\n",
    "1. [Glossaire](#Glossaire)\n",
    "2. [Introduction](#Introduction)\n",
    "   - Contexte\n",
    "   - Objectif\n",
    "3. [Partie 1 : Modélisation](#partie-1--modélisation)\n",
    "   - Description\n",
    "   - Modèle formelle\n",
    "   - Analyse de la complexité\n",
    "   - Méthodologie\n",
    "4. [Partie 2 : Implémentation](#partie-2--implémentation)\n",
    "   - Implémentation\n",
    "   - Exploitation\n",
    "5. [Conclusion](#conclusion)\n",
    "   - Résumé\n",
    "   - Travaux futurs\n",
    "6. [Références](#références)"
   ]
  },
  {
   "cell_type": "markdown",
   "metadata": {},
   "source": [
    "## Glossaire\n",
    "\n",
    "- **Algorithme** : Un algorithme est une suite d’instructions et d’opération claires et précises permettant de résoudre un problème, obtenir un résultat.\n",
    "- **Arbre Couvrant Minimal** : Dans un graphe non orienté connexe, dont les arrêtes sont pondérées, l’arbre couvrant minimal est un arbre permettant de connecter tous les sommets avec un poids d’arrête minimum.\n",
    "- **Complexité asymptotique** : La complexité asymptotique permet de prévoir la consommation en ressources (espace ou temps) d’un algorithme en fonction de la taille du paramètre d’entrée.\n",
    "- **Complexité des algorithmes** : La complexité d’un algorithme correspond à la quantité de ressources nécessaire pour son exécution. On peut distinguer deux aspects, la complexité temporelle, qui mesure le temps d’exécution d’un algorithme et la complexité spatiale, qui indique la quantité de mémoire nécessaire à l’exécution d’un programme.\n",
    "- **Graphes** : Les graphes sont des structures mathématiques composées de sommets reliés entre eux par des arrêtes.\n",
    "- **Heuristique** : Méthode de calcul qui fournit rapidement une solution réalisable, qui pourra fournir un résultat exact ou approché.\n",
    "- **Itinéraire optimal** : L’itinéraire optimal, dans le cas des graphes et le contexte, se rapprocherait de l’arbre couvrant minimal, puisqu’il s’agit du trajet permettant de passer par tous les lampadaires (sommets) en utilisant le chemin le plus court (poids des arrêtes).\n",
    "- **Métaheuristique** : Une métaheuristique est un algorithme d’optimisation visant à résoudre des problèmes d’optimisations pour lesquels on ne connaît pas de méthode classique plus efficace. La différence entre métaheuristique et heuristique réside dans le fait que les méthodes heuristiques sont liées aux problèmes qu’elles cherchent à résoudre alors que les algorithmes métaheuristique sont plus généralistes.\n",
    "- **Méthode de résolution générique** : Méthode générique permettant de résoudre plusieurs problèmes (cf : métaheuristique).\n",
    "- **NP (Nondeterministic Polynomial time)** : C'est une classe de problèmes pour lesquels une solution proposée peut être vérifiée comme correcte ou incorrecte en temps polynomial.\n",
    "- **NP-Complet** : Un problème est NP-complet s'il est à la fois dans NP et que tout problème dans NP peut être réduit à ce problème en temps polynomial.\n",
    "- **Principe d’évolution et de séparation** : Le principe d'évolution et de séparation, également connu sous le nom de \"Branch and Bound\", est une méthode de résolution de problèmes d'optimisation combinatoire. Il consiste à diviser le problème en sous-problèmes plus simples (séparation), puis à résoudre ces sous-problèmes de manière efficace en utilisant des bornes inférieures et supérieures (évolution) afin de réduire l'espace de recherche et trouver la solution optimale.\n",
    "- **Problème d’optimisation** : Type de problème dans lequel on souhaite trouver la meilleure solution parmi en ensemble de solutions possibles, le plus souvent en cherchant la valeur maximum ou minimum (ex : Trouver le nombre minimum de camions nécessaires pour livrer un ensemble de marchandises à plusieurs villes).\n",
    "- **Problème de décision** : Un problème de décision est un type de problème algorithmique dont l’objectif est de répondre par « oui » ou « non » à une question posée. Les problèmes de décision sont liés à la complexité des algorithmes car il n’est parfois pas possible de trouver un algorithme de décision avec une complexité faible.\n",
    "- **Problème du voyageur de commerce** : Problème d’optimisation qui consiste à déterminer, étant donné un ensemble de villes, le chemin le plus court passant par chaque ville une seule fois.\n",
    "- **Programmation dynamique** : La programmation dynamique est une méthode algorithme qui consiste à séparer un problème en sous-problèmes. On résout les sous-problèmes, du plus petit au plus grand, puis on combine les résolutions pour obtenir le résultat du problème initial.\n",
    "- **Programmation linéaire** : La programmation linéaire est une technique utilisée pour déterminer la valeur minimale ou maximale d’une fonction en respectant des conditions préalablement définies. La valeur que l’on souhaite optimiser s’appelle « fonction objectif » et les restrictions « contraintes ».\n",
    "- **Recherche arborescente** : La recherche arborescente est une méthode de résolution de problèmes qui consiste à construire un arbre de décision, où chaque nœud représente une décision à prendre et les branches représentent les différentes options possibles. Cette approche permet d'explorer de manière structurée l'espace des solutions et de trouver la meilleure solution de manière efficace, en particulier pour les problèmes combinatoires complexes.\n",
    "- **Recherche exhaustive** : La recherche exhaustive, également connue sous le nom de recherche par énumération, est une méthode de résolution de problèmes qui consiste à examiner systématiquement toutes les solutions possibles jusqu'à ce que la solution optimale soit trouvée. Cette approche garantit de trouver la meilleure solution, mais peut être très coûteuse en temps de calcul, surtout pour des problèmes complexes avec un grand nombre de solutions possibles.\n",
    "- **Relaxation continue** : La relaxation continue est une technique utilisée dans l'optimisation combinatoire, où l'on remplace un problème discret par un problème continu plus facile à résoudre. Cette approche permet d'obtenir des bornes inférieures ou supérieures qui peuvent être utilisées dans des algorithmes d'optimisation, comme le principe d'évolution et de séparation.\n",
    "- **Simplexe (Algorithme du simplexe)** : L’algorithme du simplexe permet de résoudre des problèmes d’optimisation linéaire.\n",
    "- **Solveur** : Un solveur est un programme informatique ou un algorithme conçu pour résoudre un problème d'optimisation ou de satisfaction de contraintes. Les solveurs peuvent utiliser diverses méthodes de résolution, telles que la recherche exhaustive, la recherche arborescente, le principe d'évolution et de séparation, la relaxation continue, etc. Ils sont largement utilisés dans de nombreux domaines, comme la planification, l'ordonnancement, la logistique, etc.\n",
    "- **Temps polynomial** : Un algorithme est dit en temps polynomial s’il s’exécute en moins de $a \\cdot n^k$ opérations élémentaires avec $n$ représentant la taille des données d’entrée.\n"
   ]
  },
  {
   "cell_type": "markdown",
   "metadata": {},
   "source": [
    "## Introduction\n",
    "### Contexte\n",
    "\n",
    "Depuis les années 90, il y a eu une véritable prise de conscience mondiale de la nécessité de réduire la consommation d'énergie et des émissions de gaz à effet de serre. Les premiers engagements sont apparus lors de la signature du protocole de Kyoto en 1997, mais son entrée en vigueur n'a eu lieu qu'en 2005, et de nombreux scientifiques ont jugé les efforts insuffisants pour ralentir le réchauffement climatique. Depuis, d'autres engagements plus ambitieux ont vu le jour, comme la division par 4 des émissions d'ici 2050 pour la France ou les engagements de certaines grandes villes comme Paris. Toutefois, la tâche reste compliquée car les pouvoirs publics et les collectivités territoriales ne peuvent pas obliger les entreprises et les particuliers à changer leurs habitudes. L'action se porte donc avant tout sur l'évolution des comportements, en mettant en priorité l'économie et le recyclage des matières premières, l'amélioration des modes de transports, et les performances énergétiques des bâtiments.\n",
    "\n",
    "### Objectif\n",
    "\n",
    "L’ADEME (Agence de l’Environnement et de la Maîtrise de l’Energie) a récemment lancé un appel à manifestation d’intérêt pour promouvoir la réalisation de démonstrateurs et d’expérimentations de nouvelles solutions de mobilité pour les personnes et les marchandises adaptées à différents types de territoires. CesiCDP, bien implanté dans ce domaine et aidé de nombreux partenaires, a réalisé plusieurs études sur le thème de la Mobilité Multimodale Intelligente. Ces études visent à résoudre les problèmes de logistique du transport, qui représentent un enjeu majeur pour l’avenir et dont les applications sont nombreuses (distribution du courrier, livraison de produits, traitement du réseau routier, ramassage des ordures) avec un impact significatif sur l’environnement.\n",
    "\n",
    "Une équipe est mise en place par CesiCDP pour répondre à l’appel de l’ADEME. L’objectif est de limiter les déplacements et la consommation des véhicules lors de livraisons : le problème algorithmique consiste à calculer sur un réseau routier une tournée permettant de relier entre elles un sous-ensemble de villes, puis de revenir à son point de départ, de manière à minimiser la durée totale de la tournée."
   ]
  },
  {
   "cell_type": "markdown",
   "metadata": {},
   "source": [
    "## Partie 1 : Modélisation\n",
    "\n",
    "### Description\n",
    "Description détaillée du problème abordé.\n",
    "Il s'agit d'un problème de tournée de véhicule ([VRP](https://en.wikipedia.org/wiki/Vehicle_routing_problem)), dont l'objectif est de trouver un itinéraire optimal pour un ou plusieurs véhicules afin de livrer un ensemble de villes.\n",
    "\n",
    "### Modèle Formel\n",
    "On peut représenter le problème sous forme de graphe non orienté, où les sommets représentent les villes et les arrêtes les routes reliant ces dernières. Chaque arrête est pondérée par la distance entre les deux villes qu'elle relie.\n",
    "\n",
    "D'un point de vue mathématique, on peut définir le problème de la manière suivante :\n",
    "- Soit $G = (V, E)$ un graphe non orienté complet, où $V$ est l'ensemble des sommets (villes) et $E$ l'ensemble des arrêtes (routes).\n",
    "- $v$ le nombre de villes.\n",
    "- $n$ un entier réprésentant le nombre de véhicules.\n",
    "- $d_{ij}$ la distance entre les villes $i$ et $j$.\n",
    "- $x_{ijk}$ une variable binaire indiquant si le véhicule $k$ emprunte la route entre les villes $i$ et $j$.\n",
    "- $s$ le dépot de départ.\n",
    "\n",
    "#### Fonction objectif\n",
    "Minimiser la somme des distances parcourues par les véhicules :\n",
    "$$\n",
    "\\min \\sum_{i \\in V} \\sum_{j \\in V} \\sum_{k = 1}^{n} d_{ij} \\cdot x_{ijk}\n",
    "$$\n",
    "\n",
    "#### Variables de décision\n",
    "- $x_{ijk} \\in \\{0, 1\\}$ : variable binaire indiquant si le véhicule $k$ emprunte la route entre les villes $i$ et $j$.\n",
    "- $u_i$ : variable continue indiquant la position de la ville $i$ dans la tournée.\n",
    "\n",
    "#### Contraintes\n",
    "- ##### Chaque ville doit être visitée <ins>au moins</ins> une fois par un véhicule :\n",
    "Explication: La variable binaire $x$ indique si le chemin entre les villes $i$ et $j$ est emprunté par le véhicule $k$. En faisant la somme de toutes les varable $x$ pour chaque ville $i$ et $j$, quelque soit le camion, on s'assure que chaque ville est visitée au moins une fois par un véhicule.\n",
    "$$\n",
    "\\sum_{i = 1}^v \\sum_{j = 1}^v \\sum_{k = 1}^n x_{ijk} \\geq 1\n",
    "$$\n",
    "- ##### L'ensemble des villes visitées par un véhicule doit former un cycle :\n",
    "Explication: Pour s'assurer que le chemin parcouru forme un cycle, on vérifie que pour chaque ville visitée par un camion, il y a un trajet d'arrivé vers cette ville et un trajet de départ.\n",
    "$$\n",
    "\\sum_{i = 1}^v \\sum_{k = 1}^n (\\sum_{j = 1}^v x_{ijk} - \\sum_{j = 1}^v x_{jik}) = 0\n",
    "$$\n",
    "- ##### Tous les camions doivent partir depuis le dépot :\n",
    "Explication: Le nombre de variable binaire $x$ partant du dépot doit être égal au nombre de camions.\n",
    "$$\n",
    "\\sum_{i = 1}^v \\sum_{k = 1}^n x_{sik} = n\n",
    "$$\n",
    "- ##### Tous les camions doivent revenir au dépot :\n",
    "Explication: Le nombre de variable binaire $x$ arrivant au dépot doit être égal au nombre de camions.\n",
    "$$\n",
    "\\sum_{i = 1}^v \\sum_{k = 1}^n x_{isk} = n\n",
    "$$\n",
    "- ##### Un véhicule ne peut pas partir d'une ville et y revenir directement (pas de boucle) :\n",
    "Explication: Pour chaque ville, on vérifie que la somme des trajets partant et arrivant à cette ville par un trajet direct est égal à 0.\n",
    "$$\n",
    "\\sum_{i = 1}^v \\sum_{k = 1}^n x_{iik} = 0\n",
    "$$\n",
    "- ##### Empêcher les sous-tours :\n",
    "Explication: Chaque ville doit être reliée à une autre ville visitée par le même véhicule (Miller-Tucker-Zemlin).\n",
    "$$\n",
    "\\sum_{i = 1}^v \\sum_{j = 1}^v u_i - u_j + (v - 1) \\cdot x_{ijk} \\leq v - 2\n",
    "$$\n",
    "\n",
    "### Analyse de la complexité\n",
    "Analyse la complexité du problème et de l'algorithme choisi.\n",
    "\n",
    "### Méthodologie\n",
    "#### Approche choisie\n",
    "Explication en détail de l'approche choisie.\n",
    "#### Détails de l'algorithme\n",
    "Détails complets sur l'algorithme utilisé."
   ]
  },
  {
   "cell_type": "markdown",
   "metadata": {},
   "source": [
    "## Partie 2 : Implémentation\n",
    "\n",
    "### Implémentation\n",
    "#### Code Python\n",
    "Documentation et fonctionnalitées."
   ]
  },
  {
   "cell_type": "code",
   "execution_count": null,
   "metadata": {},
   "outputs": [],
   "source": []
  },
  {
   "cell_type": "markdown",
   "metadata": {},
   "source": [
    "#### Démonstration du fonctionnement\n",
    "\n",
    "**Cas de test 1 : 25 villes**\n",
    "Résultats détaillés et analyse.\n",
    "\n",
    "**Cas de test 2 : 100 villes**\n",
    "Résultats détaillés et analyse.\n",
    "\n",
    "### Éxploitation \n",
    "#### Mise en place\n",
    "Description de la mise en place.\n",
    "\n",
    "#### Résultats\n",
    "Présentez les résultats expérimentaux avec des analyses statistiques appropriées (moyenne, médiane, écart-type).\n",
    "\n",
    "#### Proposition d'amélioration\n",
    "Proposition d'améliorations possibles basées sur les résultats."
   ]
  },
  {
   "cell_type": "markdown",
   "metadata": {},
   "source": [
    "## Conclusion\n",
    "\n",
    "### Résumé\n",
    "Points et conclusions clés.\n",
    "\n",
    "### Travaux futurs\n",
    "Recherches et propositions potentielles."
   ]
  },
  {
   "cell_type": "markdown",
   "metadata": {},
   "source": [
    "## Références\n",
    "Liste des références utilisées dans le projet."
   ]
  }
 ],
 "metadata": {
  "kernelspec": {
   "display_name": "Python 3",
   "language": "python",
   "name": "python3"
  },
  "language_info": {
   "codemirror_mode": {
    "name": "ipython",
    "version": 3
   },
   "file_extension": ".py",
   "mimetype": "text/x-python",
   "name": "python",
   "nbconvert_exporter": "python",
   "pygments_lexer": "ipython3",
   "version": "3.11.9"
  }
 },
 "nbformat": 4,
 "nbformat_minor": 2
}
