{
 "cells": [
  {
   "cell_type": "markdown",
   "id": "acc302aa",
   "metadata": {},
   "source": [
    "# Recherche opérationnelle - Livrable 1\n",
    "Tom Barcelo - Victor Dexes - Melvin Menanteau - Victor Petit"
   ]
  },
  {
   "cell_type": "markdown",
   "id": "eb102254",
   "metadata": {},
   "source": [
    "## Contexte\n",
    "CesiCDP constitue une nouvelle équipe afin de répondre à l'appel de l'ADEME (Agence De l'Environnement et de la Maîtrise de l'Énergie). Cette dernière souhaite trouver de nouvelles solutions de mobilité, pour les personnes et les marchandises, plus respectueuses de l'environnement."
   ]
  },
  {
   "cell_type": "markdown",
   "id": "4f9edbe7",
   "metadata": {},
   "source": [
    "## Objectif\n",
    "L'objectif de notre équipe est de trouver un algorithme permettant de fournir un itinéraire "
   ]
  },
  {
   "cell_type": "markdown",
   "id": "618859fc",
   "metadata": {},
   "source": [
    "## Problématique"
   ]
  },
  {
   "cell_type": "markdown",
   "id": "69561127",
   "metadata": {},
   "source": [
    "## Définition mathématique"
   ]
  },
  {
   "cell_type": "markdown",
   "id": "9b743aff",
   "metadata": {},
   "source": [
    "### Données"
   ]
  },
  {
   "cell_type": "markdown",
   "id": "0d85fe2f",
   "metadata": {},
   "source": [
    "### Contraintes"
   ]
  },
  {
   "cell_type": "markdown",
   "id": "ea4fd1a5",
   "metadata": {},
   "source": [
    "### Fonction objectif"
   ]
  },
  {
   "cell_type": "markdown",
   "id": "e2c7f815",
   "metadata": {},
   "source": [
    "## Compléxité asymptotique"
   ]
  },
  {
   "cell_type": "markdown",
   "id": "09353670",
   "metadata": {},
   "source": [
    "## Bibliographie"
   ]
  }
 ],
 "metadata": {
  "kernelspec": {
   "display_name": "Python 3 (ipykernel)",
   "language": "python",
   "name": "python3"
  },
  "language_info": {
   "codemirror_mode": {
    "name": "ipython",
    "version": 3
   },
   "file_extension": ".py",
   "mimetype": "text/x-python",
   "name": "python",
   "nbconvert_exporter": "python",
   "pygments_lexer": "ipython3",
   "version": "3.11.7"
  }
 },
 "nbformat": 4,
 "nbformat_minor": 5
}
