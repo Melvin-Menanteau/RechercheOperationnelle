{
 "cells": [
  {
   "cell_type": "markdown",
   "id": "acc302aa",
   "metadata": {},
   "source": [
    "# Recherche opérationnelle - Livrable 1\n",
    "Groupe 4: Tom BARCELO - Victor DEXES - Melvin MENANTEAU - Victor PETIT"
   ]
  },
  {
   "cell_type": "markdown",
   "id": "eb102254",
   "metadata": {},
   "source": [
    "## Contexte\n",
    "CesiCDP constitue une nouvelle équipe afin de répondre à l'appel de l'ADEME (Agence De l'Environnement et de la Maîtrise de l'Énergie). Cette dernière souhaite trouver de nouvelles solutions de mobilité, pour les personnes et les marchandises, plus respectueuses de l'environnement."
   ]
  },
  {
   "cell_type": "markdown",
   "id": "4f9edbe7",
   "metadata": {},
   "source": [
    "## Objectif\n",
    "L'objectif de notre équipe est de trouver un algorithme produisant un itinéraire de livraison, reliant toutes les villes, et revenant à son point de départ. Le nombre de véhicule assurant la livraison sera renseigné au préalable. La durée du trajet doit être le plus faible possible. Il est indispensable que l'algorithme produise une solution."
   ]
  },
  {
   "cell_type": "markdown",
   "id": "618859fc",
   "metadata": {},
   "source": [
    "## Problématique\n",
    "Est-il possible de créer un/des itinéraire(s) de tournée permettant de fournir toutes villes?"
   ]
  },
  {
   "cell_type": "markdown",
   "id": "69561127",
   "metadata": {},
   "source": [
    "## Définition mathématique"
   ]
  },
  {
   "cell_type": "markdown",
   "id": "9b743aff",
   "metadata": {},
   "source": [
    "### Données\n",
    "\n",
    "$M_v$: Matrice d'adjacence représentant les liaisons (routes) entre chaque villes. Les valeurs de la matrice indiquent le temps nécessaire pour rejoindre les deux villes.  \n",
    "$n$: Nombre de camions disponibles pour effectuer la tournée."
   ]
  },
  {
   "cell_type": "markdown",
   "id": "0d85fe2f",
   "metadata": {},
   "source": [
    "### Contraintes\n",
    "<table>\n",
    "    <tr>\n",
    "    </tr>\n",
    "    <tr>\n",
    "        <td>$n >= 0$</td>\n",
    "    </tr>\n",
    "</table>"
   ]
  },
  {
   "cell_type": "markdown",
   "id": "ea4fd1a5",
   "metadata": {},
   "source": [
    "### Fonction objectif"
   ]
  },
  {
   "cell_type": "markdown",
   "id": "e2c7f815",
   "metadata": {},
   "source": [
    "## Compléxité asymptotique\n",
    "\n",
    "NP-Difficile"
   ]
  },
  {
   "cell_type": "markdown",
   "id": "09353670",
   "metadata": {},
   "source": [
    "## Bibliographie\n",
    "\n",
    "https://link.springer.com/chapter/10.1007/0-387-24977-X_9  \n",
    "https://www.sciencedirect.com/science/article/abs/pii/S0360835209001405"
   ]
  }
 ],
 "metadata": {
  "kernelspec": {
   "display_name": "Python 3 (ipykernel)",
   "language": "python",
   "name": "python3"
  },
  "language_info": {
   "codemirror_mode": {
    "name": "ipython",
    "version": 3
   },
   "file_extension": ".py",
   "mimetype": "text/x-python",
   "name": "python",
   "nbconvert_exporter": "python",
   "pygments_lexer": "ipython3",
   "version": "3.11.7"
  }
 },
 "nbformat": 4,
 "nbformat_minor": 5
}
