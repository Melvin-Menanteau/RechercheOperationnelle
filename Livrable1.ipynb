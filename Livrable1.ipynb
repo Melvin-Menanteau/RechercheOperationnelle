{
 "cells": [
  {
   "cell_type": "markdown",
   "id": "acc302aa",
   "metadata": {},
   "source": [
    "# Recherche opérationnelle - Livrable 1\n",
    "Groupe 4: Tom BARCELO - Victor DEXES - Melvin MENANTEAU - Victor PETIT"
   ]
  },
  {
   "cell_type": "markdown",
   "id": "eb102254",
   "metadata": {},
   "source": [
    "## Contexte\n",
    "CesiCDP constitue une nouvelle équipe afin de répondre à l'appel de l'ADEME (Agence De l'Environnement et de la Maîtrise de l'Énergie). Cette dernière souhaite trouver de nouvelles solutions de mobilité, pour les personnes et les marchandises, plus respectueuses de l'environnement."
   ]
  },
  {
   "cell_type": "markdown",
   "id": "4f9edbe7",
   "metadata": {},
   "source": [
    "## Objectif\n",
    "L'objectif de notre équipe est de trouver un algorithme produisant un itinéraire de livraison, reliant toutes les villes, et revenant à son point de départ. Le nombre de véhicule assurant la livraison sera renseigné au préalable. La durée du trajet doit être le plus faible possible. Il est indispensable que l'algorithme produise une solution."
   ]
  },
  {
   "cell_type": "markdown",
   "id": "618859fc",
   "metadata": {},
   "source": [
    "## Problématique\n",
    "Est-il possible de créer un/des itinéraire(s) de tournée permettant de fournir toutes villes?"
   ]
  },
  {
   "cell_type": "markdown",
   "id": "69561127",
   "metadata": {},
   "source": [
    "## Définition mathématique"
   ]
  },
  {
   "cell_type": "markdown",
   "id": "233c768e",
   "metadata": {},
   "source": [
    "### Problème\n",
    "\n",
    "Il s'agit d'un problème d'optimisation, et plus précisement de minimisation. On cherche à livrer toutes les villes avec le moins de véhicules possible et dans les plus bref délais."
   ]
  },
  {
   "cell_type": "markdown",
   "id": "4e1fbc13",
   "metadata": {},
   "source": [
    "### Problème décisionel lié\n",
    "Est-il possible de livrer toutes les villes avec $n$ camions?"
   ]
  },
  {
   "cell_type": "markdown",
   "id": "9b743aff",
   "metadata": {},
   "source": [
    "### Données\n",
    "\n",
    "- $V$: Matrice d'adjacence représentant les liaisons (routes) entre chaque villes. Les valeurs de la matrice indiquent le temps nécessaire pour rejoindre les deux villes.\n",
    "- $n$: Nombre de camions disponibles pour effectuer la tournée.\n",
    "- $O$: Point de départ et d'arrivée des véhicules (sommet dans le graphe)\n",
    "- $C_n$: Cycle hamiltonien représentant la tournée calculée pour chaque camion"
   ]
  },
  {
   "cell_type": "markdown",
   "id": "0d85fe2f",
   "metadata": {},
   "source": [
    "### Contraintes\n",
    "##### Les distances entre les villes sont renseignées\n",
    "- $V_{ij} >= 0$ (Les poids sont à zéro sur la diagonale de la matrice car il s'agit de la même ville. Des poids négatifs indiquent qu'il n'existe pas de chemins entre les villes)\n",
    "##### Le point de départ fait partie des villes\n",
    "- $O = V_{ij}$\n",
    "##### Containte de non négativité - Il doit y avoir au moins un camion pour réaliser la tournée\n",
    "- $n > 0$"
   ]
  },
  {
   "cell_type": "markdown",
   "id": "ea4fd1a5",
   "metadata": {},
   "source": [
    "### Fonction objectif\n",
    "En considérant:\n",
    "- $d$: Nombre de sommets dans le cycle $C_n$\n",
    "\n",
    "$f(C_n) = min \\displaystyle\\sum_{i=1}^{d-1} C_{n_i} + C_{n_{i+1}}$"
   ]
  },
  {
   "cell_type": "markdown",
   "id": "bfe1d3ba",
   "metadata": {},
   "source": [
    "## Algorithme\n",
    "Inspiration de l'[Hybrid Genetic Search](https://arxiv.org/pdf/2012.10384)\n",
    "\n",
    "- Chercher le cycle regroupant le plus de sommets ayant des caractéristiques communes (dans le cas ou certains objets ne pourrait être livrés que par certains camions)\n",
    "- Séparer ce cycle en deux parties (le découpage est fait de tel sorte que la sommes des poids des arêtes des cycles résultants soit la plus"
   ]
  },
  {
   "cell_type": "markdown",
   "id": "e2c7f815",
   "metadata": {},
   "source": [
    "## Compléxité asymptotique\n",
    "### Description théorique\n",
    "\n",
    "Le problème du Voyageur de Commerce (TSP) et le problème des circuits eulériens sont particulièrement pertinents. La nature de ces problèmes nous aide à comprendre les défis associés à la résolution de tels problèmes à grande échelle.\n",
    "\n",
    "1. Problème du voyageur de commerce (TSP) :\n",
    "- Définition : trouver le chemin le plus court permettant de visiter chaque ville exactement une fois et de revenir à la ville de départ\n",
    "- Complexité : le TSP est NP-complet, ce qui signifique qu'aucun algorithme polynomial n'est connu pour résoudre toutes les instances du TSP de manière optimale. La complexité est expontentielle dans le pire des cas.\n",
    "\n",
    "2. Problème des circuits eulériens :\n",
    "- Définition : trouver un chemin dans un grapge qui passe exactement une fois par chaque arrête (ou rue) et revient au point de départ.\n",
    "- Complexité : le problème est résolu en temps polynomial si le grapge est connexe et que tout les sommets ont un degré pair, sinon pas de cycle eulérien.\n",
    "\n",
    "3. Problème d'optimisation :\n",
    "- Définition : Minimiser le temps total de la tournée dans le réseau routier en respectant certaines contraintes (visiter chaque ville une fois, revenir au point de départ...)\n",
    "- Complexité : Ce type de problème est souvent modelisé comme un programme linéraire en nombres entiers.\n",
    "\n",
    "### Preuves et justifications\n",
    "\n",
    "1. Preuve de la NP-Complétude :\n",
    "- Réduction polynomiale : le TSP peut être réduit à partir du problème du circuit hamiltonien, un problème bien connu pour être NP-complet. Étant donné un graphe G=(V,E), on peut construire une matrice de distance où les arêtes existantes ont une distance 1 et les arêtes non existantes une distance infinie. Trouver un cycle hamiltonien revient alors à trouver un cycle de coût minimal dans ce graphe.\n",
    "- Théorème de Cook-Levin : ce théorème établit que de nombreux problèmes de décision (comme le circuit hamiltonien) sont NP-complets, ce qui implique que le TSP est également NP-complet par réduction polynomiale.\n",
    "\n",
    "2. Appartenance à NP :\n",
    "- Certificat vérifiable en temps polynomial : pour prouver qu'un problème est dans NP, il faut montrer qu'une solution proposée peut être vérifiée en temps polynomial. Pour le TSP, une séquence de villes peut être vérifiée en calculant la distance totale du trajet et en s'assurant que chaque ville est visitée exactement une fois, ce qui peut être fait en temps polynomial.\n",
    "\n",
    "3. Modélisation en Recherche Opérationnelle :\n",
    "- Programmation linéaire : le TSP peut être formulé comme un problème de programmation linéaire en nombres entiers. On introduit des variables binaires pour chaque paire de villes indiquant si un trajet direct est pris ou non, et on ajoute des contraintes pour garantir que chaque ville est visitée exactement une fois et que le trajet forme un cycle.\n",
    "- Méthode du Simplexe : bien que le simplexe soit efficace pour de nombreux problèmes de programmation linéaire, il peut ne pas être optimal pour le TSP en raison de la nature combinatoire du problème. Des méthodes comme le Branch and Cut, qui combine la programmation linéaire et des techniques de séparation, sont plus adaptées.\n",
    "\n",
    "4. Approches Heuristiques et Méta-Heuristiques :\n",
    "- Algorithme du plus proche voisin (Nearest Neighbor) : une méthode heuristique simple avec une complexité O(n^2), mais qui ne garantit pas la solution optimale.\n",
    "- Algorithmes génétiques, recuit simulé, colonies de fourmis : ces méthodes inspirées de processus naturels offrent un compromis entre qualité de la solution et temps de calcul. Elles explorent l'espace de solution de manière stochastique et adaptative, souvent conduisant à des solutions satisfaisantes en des temps de calcul raisonnables."
   ]
  },
  {
   "cell_type": "markdown",
   "id": "09353670",
   "metadata": {},
   "source": [
    "## Bibliographie\n",
    "[Unified Hybrid Genetic Search](https://www.cirrelt.ca/documentstravail/cirrelt-2012-23.pdf#page=16)\n",
    "\n",
    "https://link.springer.com/chapter/10.1007/0-387-24977-X_9  \n",
    "https://www.sciencedirect.com/science/article/abs/pii/S0360835209001405  \n",
    "https://www.cirrelt.ca/documentstravail/cirrelt-2012-23.pdf"
   ]
  }
 ],
 "metadata": {
  "kernelspec": {
   "display_name": "Python 3 (ipykernel)",
   "language": "python",
   "name": "python3"
  },
  "language_info": {
   "codemirror_mode": {
    "name": "ipython",
    "version": 3
   },
   "file_extension": ".py",
   "mimetype": "text/x-python",
   "name": "python",
   "nbconvert_exporter": "python",
   "pygments_lexer": "ipython3",
   "version": "3.11.7"
  }
 },
 "nbformat": 4,
 "nbformat_minor": 5
}
